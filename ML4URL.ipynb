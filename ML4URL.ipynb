{
 "cells": [
  {
   "cell_type": "markdown",
   "metadata": {
    "id": "Ko9B5AMd24s2"
   },
   "source": [
    "## Detecting and Classifying Malicious Uniform Resource Locations Using Advanced Machine Learning"
   ]
  },
  {
   "cell_type": "code",
   "execution_count": 2,
   "metadata": {
    "executionInfo": {
     "elapsed": 762,
     "status": "ok",
     "timestamp": 1694069483586,
     "user": {
      "displayName": "Yogitha Lss",
      "userId": "02270303392189150524"
     },
     "user_tz": -330
    },
    "id": "AFf65e9d3EBS"
   },
   "outputs": [],
   "source": [
    "from urllib.parse import urlsplit\n",
    "import matplotlib.pyplot as plt\n",
    "import seaborn as sns\n",
    "import pandas as pd\n",
    "import numpy as np\n",
    "from sklearn.ensemble import RandomForestClassifier\n",
    "from sklearn.model_selection import GridSearchCV\n",
    "from sklearn.metrics import accuracy_score,confusion_matrix,classification_report\n",
    "import warnings\n",
    "warnings.filterwarnings('ignore')"
   ]
  },
  {
   "cell_type": "code",
   "execution_count": 3,
   "metadata": {
    "colab": {
     "base_uri": "https://localhost:8080/",
     "height": 356
    },
    "executionInfo": {
     "elapsed": 575,
     "status": "error",
     "timestamp": 1694069507346,
     "user": {
      "displayName": "Yogitha Lss",
      "userId": "02270303392189150524"
     },
     "user_tz": -330
    },
    "id": "vdD4gMB5222C",
    "outputId": "a156a9e6-84e1-4b06-e439-c641500e7039",
    "scrolled": true
   },
   "outputs": [
    {
     "data": {
      "text/html": [
       "<div>\n",
       "<style scoped>\n",
       "    .dataframe tbody tr th:only-of-type {\n",
       "        vertical-align: middle;\n",
       "    }\n",
       "\n",
       "    .dataframe tbody tr th {\n",
       "        vertical-align: top;\n",
       "    }\n",
       "\n",
       "    .dataframe thead th {\n",
       "        text-align: right;\n",
       "    }\n",
       "</style>\n",
       "<table border=\"1\" class=\"dataframe\">\n",
       "  <thead>\n",
       "    <tr style=\"text-align: right;\">\n",
       "      <th></th>\n",
       "      <th>url</th>\n",
       "      <th>type</th>\n",
       "    </tr>\n",
       "  </thead>\n",
       "  <tbody>\n",
       "    <tr>\n",
       "      <th>0</th>\n",
       "      <td>br-icloud.com.br</td>\n",
       "      <td>phishing</td>\n",
       "    </tr>\n",
       "    <tr>\n",
       "      <th>1</th>\n",
       "      <td>mp3raid.com/music/krizz_kaliko.html</td>\n",
       "      <td>benign</td>\n",
       "    </tr>\n",
       "    <tr>\n",
       "      <th>2</th>\n",
       "      <td>bopsecrets.org/rexroth/cr/1.htm</td>\n",
       "      <td>benign</td>\n",
       "    </tr>\n",
       "    <tr>\n",
       "      <th>3</th>\n",
       "      <td>http://www.garage-pirenne.be/index.php?option=...</td>\n",
       "      <td>defacement</td>\n",
       "    </tr>\n",
       "    <tr>\n",
       "      <th>4</th>\n",
       "      <td>http://adventure-nicaragua.net/index.php?optio...</td>\n",
       "      <td>defacement</td>\n",
       "    </tr>\n",
       "    <tr>\n",
       "      <th>5</th>\n",
       "      <td>http://buzzfil.net/m/show-art/ils-etaient-loin...</td>\n",
       "      <td>benign</td>\n",
       "    </tr>\n",
       "    <tr>\n",
       "      <th>6</th>\n",
       "      <td>espn.go.com/nba/player/_/id/3457/brandon-rush</td>\n",
       "      <td>benign</td>\n",
       "    </tr>\n",
       "    <tr>\n",
       "      <th>7</th>\n",
       "      <td>yourbittorrent.com/?q=anthony-hamilton-soulife</td>\n",
       "      <td>benign</td>\n",
       "    </tr>\n",
       "    <tr>\n",
       "      <th>8</th>\n",
       "      <td>http://www.pashminaonline.com/pure-pashminas</td>\n",
       "      <td>defacement</td>\n",
       "    </tr>\n",
       "    <tr>\n",
       "      <th>9</th>\n",
       "      <td>allmusic.com/album/crazy-from-the-heat-r16990</td>\n",
       "      <td>benign</td>\n",
       "    </tr>\n",
       "    <tr>\n",
       "      <th>10</th>\n",
       "      <td>corporationwiki.com/Ohio/Columbus/frank-s-bens...</td>\n",
       "      <td>benign</td>\n",
       "    </tr>\n",
       "    <tr>\n",
       "      <th>11</th>\n",
       "      <td>http://www.ikenmijnkunst.nl/index.php/expositi...</td>\n",
       "      <td>defacement</td>\n",
       "    </tr>\n",
       "    <tr>\n",
       "      <th>12</th>\n",
       "      <td>myspace.com/video/vid/30602581</td>\n",
       "      <td>benign</td>\n",
       "    </tr>\n",
       "    <tr>\n",
       "      <th>13</th>\n",
       "      <td>http://www.lebensmittel-ueberwachung.de/index....</td>\n",
       "      <td>defacement</td>\n",
       "    </tr>\n",
       "    <tr>\n",
       "      <th>14</th>\n",
       "      <td>http://www.szabadmunkaero.hu/cimoldal.html?sta...</td>\n",
       "      <td>defacement</td>\n",
       "    </tr>\n",
       "    <tr>\n",
       "      <th>15</th>\n",
       "      <td>http://larcadelcarnevale.com/catalogo/palloncini</td>\n",
       "      <td>defacement</td>\n",
       "    </tr>\n",
       "    <tr>\n",
       "      <th>16</th>\n",
       "      <td>quickfacts.census.gov/qfd/maps/iowa_map.html</td>\n",
       "      <td>benign</td>\n",
       "    </tr>\n",
       "    <tr>\n",
       "      <th>17</th>\n",
       "      <td>nugget.ca/ArticleDisplay.aspx?archive=true&amp;e=1...</td>\n",
       "      <td>benign</td>\n",
       "    </tr>\n",
       "    <tr>\n",
       "      <th>18</th>\n",
       "      <td>uk.linkedin.com/pub/steve-rubenstein/8/718/755</td>\n",
       "      <td>benign</td>\n",
       "    </tr>\n",
       "    <tr>\n",
       "      <th>19</th>\n",
       "      <td>http://www.vnic.co/khach-hang.html</td>\n",
       "      <td>defacement</td>\n",
       "    </tr>\n",
       "    <tr>\n",
       "      <th>20</th>\n",
       "      <td>baseball-reference.com/players/h/harrige01.shtml</td>\n",
       "      <td>benign</td>\n",
       "    </tr>\n",
       "    <tr>\n",
       "      <th>21</th>\n",
       "      <td>signin.eby.de.zukruygxctzmmqi.civpro.co.za</td>\n",
       "      <td>phishing</td>\n",
       "    </tr>\n",
       "    <tr>\n",
       "      <th>22</th>\n",
       "      <td>192.com/atoz/people/oakley/patrick/</td>\n",
       "      <td>benign</td>\n",
       "    </tr>\n",
       "    <tr>\n",
       "      <th>23</th>\n",
       "      <td>nytimes.com/1998/03/29/style/cuttings-oh-that-...</td>\n",
       "      <td>benign</td>\n",
       "    </tr>\n",
       "    <tr>\n",
       "      <th>24</th>\n",
       "      <td>escholarship.org/uc/item/5xt4952c</td>\n",
       "      <td>benign</td>\n",
       "    </tr>\n",
       "    <tr>\n",
       "      <th>25</th>\n",
       "      <td>songfacts.com/detail.php?id=13410</td>\n",
       "      <td>benign</td>\n",
       "    </tr>\n",
       "    <tr>\n",
       "      <th>26</th>\n",
       "      <td>casamanana.org/education/blba/</td>\n",
       "      <td>benign</td>\n",
       "    </tr>\n",
       "    <tr>\n",
       "      <th>27</th>\n",
       "      <td>http://hollywoodlife.com/2014/05/01/rihanna-ih...</td>\n",
       "      <td>benign</td>\n",
       "    </tr>\n",
       "    <tr>\n",
       "      <th>28</th>\n",
       "      <td>http://www.marketingbyinternet.com/mo/e56508df...</td>\n",
       "      <td>phishing</td>\n",
       "    </tr>\n",
       "    <tr>\n",
       "      <th>29</th>\n",
       "      <td>en.wikipedia.org/wiki/North_Dakota</td>\n",
       "      <td>benign</td>\n",
       "    </tr>\n",
       "    <tr>\n",
       "      <th>30</th>\n",
       "      <td>soaps.sheknows.com/daysofourlives/news/id/2025...</td>\n",
       "      <td>benign</td>\n",
       "    </tr>\n",
       "    <tr>\n",
       "      <th>31</th>\n",
       "      <td>perfectpeople.net/celebrity-star/6920/gidget-g...</td>\n",
       "      <td>benign</td>\n",
       "    </tr>\n",
       "    <tr>\n",
       "      <th>32</th>\n",
       "      <td>media.caltech.edu/press_releases/13186</td>\n",
       "      <td>benign</td>\n",
       "    </tr>\n",
       "    <tr>\n",
       "      <th>33</th>\n",
       "      <td>wikiobits.com/Obits/TonyProudfoot</td>\n",
       "      <td>benign</td>\n",
       "    </tr>\n",
       "    <tr>\n",
       "      <th>34</th>\n",
       "      <td>vanderbilt.rivals.com/viewcoach.asp?coach=2079...</td>\n",
       "      <td>benign</td>\n",
       "    </tr>\n",
       "    <tr>\n",
       "      <th>35</th>\n",
       "      <td>http://peluqueriadeautor.com/index.php?option=...</td>\n",
       "      <td>defacement</td>\n",
       "    </tr>\n",
       "    <tr>\n",
       "      <th>36</th>\n",
       "      <td>movies.yahoo.com/shop?d=hv&amp;cf=info&amp;id=1800340831</td>\n",
       "      <td>benign</td>\n",
       "    </tr>\n",
       "    <tr>\n",
       "      <th>37</th>\n",
       "      <td>cyndislist.com/us/pa/counties</td>\n",
       "      <td>benign</td>\n",
       "    </tr>\n",
       "    <tr>\n",
       "      <th>38</th>\n",
       "      <td>http://www.824555.com/app/member/SportOption.p...</td>\n",
       "      <td>malware</td>\n",
       "    </tr>\n",
       "    <tr>\n",
       "      <th>39</th>\n",
       "      <td>http://www.raci.it/component/user/reset.html</td>\n",
       "      <td>defacement</td>\n",
       "    </tr>\n",
       "    <tr>\n",
       "      <th>40</th>\n",
       "      <td>https://docs.google.com/spreadsheet/viewform?f...</td>\n",
       "      <td>phishing</td>\n",
       "    </tr>\n",
       "    <tr>\n",
       "      <th>41</th>\n",
       "      <td>psychology.wikia.com/wiki/Phonemes</td>\n",
       "      <td>benign</td>\n",
       "    </tr>\n",
       "    <tr>\n",
       "      <th>42</th>\n",
       "      <td>info.centriq.com/content/fivereasons</td>\n",
       "      <td>benign</td>\n",
       "    </tr>\n",
       "    <tr>\n",
       "      <th>43</th>\n",
       "      <td>articles.baltimoresun.com/1991-06-11/sports/19...</td>\n",
       "      <td>benign</td>\n",
       "    </tr>\n",
       "    <tr>\n",
       "      <th>44</th>\n",
       "      <td>infinitysw.com/</td>\n",
       "      <td>benign</td>\n",
       "    </tr>\n",
       "    <tr>\n",
       "      <th>45</th>\n",
       "      <td>strawberrycreekgardens.com/</td>\n",
       "      <td>benign</td>\n",
       "    </tr>\n",
       "    <tr>\n",
       "      <th>46</th>\n",
       "      <td>http://earth-sure.com/industrial-tech/everlast...</td>\n",
       "      <td>defacement</td>\n",
       "    </tr>\n",
       "    <tr>\n",
       "      <th>47</th>\n",
       "      <td>spoke.com/dir/p/desantis/nick</td>\n",
       "      <td>benign</td>\n",
       "    </tr>\n",
       "    <tr>\n",
       "      <th>48</th>\n",
       "      <td>wordsmith.org/words/pignus.html</td>\n",
       "      <td>benign</td>\n",
       "    </tr>\n",
       "    <tr>\n",
       "      <th>49</th>\n",
       "      <td>http://interpark.com/displaycorner/FreeMarket....</td>\n",
       "      <td>benign</td>\n",
       "    </tr>\n",
       "  </tbody>\n",
       "</table>\n",
       "</div>"
      ],
      "text/plain": [
       "                                                  url        type\n",
       "0                                    br-icloud.com.br    phishing\n",
       "1                 mp3raid.com/music/krizz_kaliko.html      benign\n",
       "2                     bopsecrets.org/rexroth/cr/1.htm      benign\n",
       "3   http://www.garage-pirenne.be/index.php?option=...  defacement\n",
       "4   http://adventure-nicaragua.net/index.php?optio...  defacement\n",
       "5   http://buzzfil.net/m/show-art/ils-etaient-loin...      benign\n",
       "6       espn.go.com/nba/player/_/id/3457/brandon-rush      benign\n",
       "7      yourbittorrent.com/?q=anthony-hamilton-soulife      benign\n",
       "8        http://www.pashminaonline.com/pure-pashminas  defacement\n",
       "9       allmusic.com/album/crazy-from-the-heat-r16990      benign\n",
       "10  corporationwiki.com/Ohio/Columbus/frank-s-bens...      benign\n",
       "11  http://www.ikenmijnkunst.nl/index.php/expositi...  defacement\n",
       "12                     myspace.com/video/vid/30602581      benign\n",
       "13  http://www.lebensmittel-ueberwachung.de/index....  defacement\n",
       "14  http://www.szabadmunkaero.hu/cimoldal.html?sta...  defacement\n",
       "15   http://larcadelcarnevale.com/catalogo/palloncini  defacement\n",
       "16       quickfacts.census.gov/qfd/maps/iowa_map.html      benign\n",
       "17  nugget.ca/ArticleDisplay.aspx?archive=true&e=1...      benign\n",
       "18     uk.linkedin.com/pub/steve-rubenstein/8/718/755      benign\n",
       "19                 http://www.vnic.co/khach-hang.html  defacement\n",
       "20   baseball-reference.com/players/h/harrige01.shtml      benign\n",
       "21         signin.eby.de.zukruygxctzmmqi.civpro.co.za    phishing\n",
       "22                192.com/atoz/people/oakley/patrick/      benign\n",
       "23  nytimes.com/1998/03/29/style/cuttings-oh-that-...      benign\n",
       "24                  escholarship.org/uc/item/5xt4952c      benign\n",
       "25                  songfacts.com/detail.php?id=13410      benign\n",
       "26                     casamanana.org/education/blba/      benign\n",
       "27  http://hollywoodlife.com/2014/05/01/rihanna-ih...      benign\n",
       "28  http://www.marketingbyinternet.com/mo/e56508df...    phishing\n",
       "29                 en.wikipedia.org/wiki/North_Dakota      benign\n",
       "30  soaps.sheknows.com/daysofourlives/news/id/2025...      benign\n",
       "31  perfectpeople.net/celebrity-star/6920/gidget-g...      benign\n",
       "32             media.caltech.edu/press_releases/13186      benign\n",
       "33                  wikiobits.com/Obits/TonyProudfoot      benign\n",
       "34  vanderbilt.rivals.com/viewcoach.asp?coach=2079...      benign\n",
       "35  http://peluqueriadeautor.com/index.php?option=...  defacement\n",
       "36   movies.yahoo.com/shop?d=hv&cf=info&id=1800340831      benign\n",
       "37                      cyndislist.com/us/pa/counties      benign\n",
       "38  http://www.824555.com/app/member/SportOption.p...     malware\n",
       "39       http://www.raci.it/component/user/reset.html  defacement\n",
       "40  https://docs.google.com/spreadsheet/viewform?f...    phishing\n",
       "41                 psychology.wikia.com/wiki/Phonemes      benign\n",
       "42               info.centriq.com/content/fivereasons      benign\n",
       "43  articles.baltimoresun.com/1991-06-11/sports/19...      benign\n",
       "44                                    infinitysw.com/      benign\n",
       "45                        strawberrycreekgardens.com/      benign\n",
       "46  http://earth-sure.com/industrial-tech/everlast...  defacement\n",
       "47                      spoke.com/dir/p/desantis/nick      benign\n",
       "48                    wordsmith.org/words/pignus.html      benign\n",
       "49  http://interpark.com/displaycorner/FreeMarket....      benign"
      ]
     },
     "execution_count": 3,
     "metadata": {},
     "output_type": "execute_result"
    }
   ],
   "source": [
    "\n",
    "df = pd.read_csv(r\"C:\\\\Malicious URL Detection\\malicious_phish.csv\")\n",
    "df.head(50)"
   ]
  },
  {
   "cell_type": "code",
   "execution_count": 4,
   "metadata": {
    "executionInfo": {
     "elapsed": 31,
     "status": "aborted",
     "timestamp": 1694069483589,
     "user": {
      "displayName": "Yogitha Lss",
      "userId": "02270303392189150524"
     },
     "user_tz": -330
    },
    "id": "eGFm0VOyJly_"
   },
   "outputs": [
    {
     "data": {
      "text/html": [
       "<div>\n",
       "<style scoped>\n",
       "    .dataframe tbody tr th:only-of-type {\n",
       "        vertical-align: middle;\n",
       "    }\n",
       "\n",
       "    .dataframe tbody tr th {\n",
       "        vertical-align: top;\n",
       "    }\n",
       "\n",
       "    .dataframe thead th {\n",
       "        text-align: right;\n",
       "    }\n",
       "</style>\n",
       "<table border=\"1\" class=\"dataframe\">\n",
       "  <thead>\n",
       "    <tr style=\"text-align: right;\">\n",
       "      <th></th>\n",
       "      <th>url</th>\n",
       "      <th>type</th>\n",
       "    </tr>\n",
       "  </thead>\n",
       "  <tbody>\n",
       "    <tr>\n",
       "      <th>count</th>\n",
       "      <td>651191</td>\n",
       "      <td>651191</td>\n",
       "    </tr>\n",
       "    <tr>\n",
       "      <th>unique</th>\n",
       "      <td>641119</td>\n",
       "      <td>4</td>\n",
       "    </tr>\n",
       "    <tr>\n",
       "      <th>top</th>\n",
       "      <td>http://style.org.hc360.com/css/detail/mysite/s...</td>\n",
       "      <td>benign</td>\n",
       "    </tr>\n",
       "    <tr>\n",
       "      <th>freq</th>\n",
       "      <td>180</td>\n",
       "      <td>428103</td>\n",
       "    </tr>\n",
       "  </tbody>\n",
       "</table>\n",
       "</div>"
      ],
      "text/plain": [
       "                                                      url    type\n",
       "count                                              651191  651191\n",
       "unique                                             641119       4\n",
       "top     http://style.org.hc360.com/css/detail/mysite/s...  benign\n",
       "freq                                                  180  428103"
      ]
     },
     "execution_count": 4,
     "metadata": {},
     "output_type": "execute_result"
    }
   ],
   "source": [
    "#@title General Info\n",
    "df.describe()"
   ]
  },
  {
   "cell_type": "code",
   "execution_count": 5,
   "metadata": {
    "executionInfo": {
     "elapsed": 31,
     "status": "aborted",
     "timestamp": 1694069483590,
     "user": {
      "displayName": "Yogitha Lss",
      "userId": "02270303392189150524"
     },
     "user_tz": -330
    },
    "id": "0ySZHQe1HbTc"
   },
   "outputs": [
    {
     "name": "stdout",
     "output_type": "stream",
     "text": [
      "<class 'pandas.core.frame.DataFrame'>\n",
      "RangeIndex: 651191 entries, 0 to 651190\n",
      "Data columns (total 2 columns):\n",
      " #   Column  Non-Null Count   Dtype \n",
      "---  ------  --------------   ----- \n",
      " 0   url     651191 non-null  object\n",
      " 1   type    651191 non-null  object\n",
      "dtypes: object(2)\n",
      "memory usage: 9.9+ MB\n"
     ]
    }
   ],
   "source": [
    "df.info()"
   ]
  },
  {
   "cell_type": "code",
   "execution_count": 6,
   "metadata": {
    "executionInfo": {
     "elapsed": 33,
     "status": "aborted",
     "timestamp": 1694069483592,
     "user": {
      "displayName": "Yogitha Lss",
      "userId": "02270303392189150524"
     },
     "user_tz": -330
    },
    "id": "9c7OsqM8KERW",
    "scrolled": true
   },
   "outputs": [
    {
     "data": {
      "image/png": "[encoded data removed]",
      "text/plain": [
       "<Figure size 400x400 with 1 Axes>"
      ]
     },
     "metadata": {},
     "output_type": "display_data"
    }
   ],
   "source": [
    "plt.figure(figsize=(4, 4))\n",
    "type_counts = df['type'].value_counts()\n",
    "type_counts.plot(kind='pie', autopct='%1.1f%%', startangle=40, colors=plt.cm.Paired(range(len(type_counts))))\n",
    "\n",
    "# Add a title and remove the ylabel\n",
    "plt.title('Distribution of Malicious and Non-Malicious URLs', fontsize=16)\n",
    "plt.gca().set_ylabel('')\n",
    "\n",
    "# Display the chart\n",
    "plt.show()"
   ]
  },
  {
   "cell_type": "markdown",
   "metadata": {
    "id": "0kjcd99VLML8"
   },
   "source": [
    "# Preprocessing"
   ]
  },
  {
   "cell_type": "code",
   "execution_count": 7,
   "metadata": {
    "executionInfo": {
     "elapsed": 34,
     "status": "aborted",
     "timestamp": 1694069483594,
     "user": {
      "displayName": "Yogitha Lss",
      "userId": "02270303392189150524"
     },
     "user_tz": -330
    },
    "id": "9dNHY4JJKtEF"
   },
   "outputs": [],
   "source": [
    "\n",
    "df['ext_type'] = df['url'].apply(lambda x: urlsplit(x).path.rsplit('.', 1)[-1] if '.' in urlsplit(x).path else 'None')\n",
    "\n",
    "value_counts = df['ext_type'].value_counts()\n",
    "values_to_replace = value_counts.nlargest(8).index\n",
    "\n",
    "df.loc[~df['ext_type'].isin(values_to_replace), 'ext_type'] = 'None'\n",
    "\n",
    "df['has_http'] = df['url'].str.contains('http://').astype(int)\n",
    "\n",
    "df['has_org'] = df['url'].str.contains('org').astype(int)\n",
    "\n",
    "df['has_query'] = df['url'].str.contains('\\?').astype(int)\n",
    "\n",
    "df['count_routes'] = df['url'].str.replace('http://', '').str.count('/')\n",
    "\n",
    "df['count_routes'] = df['count_routes'].where(df['count_routes'] <= 4, 4)"
   ]
  },
  {
   "cell_type": "code",
   "execution_count": 8,
   "metadata": {
    "executionInfo": {
     "elapsed": 36,
     "status": "aborted",
     "timestamp": 1694069483596,
     "user": {
      "displayName": "Yogitha Lss",
      "userId": "02270303392189150524"
     },
     "user_tz": -330
    },
    "id": "zXFSJMqZMwuI"
   },
   "outputs": [
    {
     "data": {
      "text/html": [
       "<div>\n",
       "<style scoped>\n",
       "    .dataframe tbody tr th:only-of-type {\n",
       "        vertical-align: middle;\n",
       "    }\n",
       "\n",
       "    .dataframe tbody tr th {\n",
       "        vertical-align: top;\n",
       "    }\n",
       "\n",
       "    .dataframe thead th {\n",
       "        text-align: right;\n",
       "    }\n",
       "</style>\n",
       "<table border=\"1\" class=\"dataframe\">\n",
       "  <thead>\n",
       "    <tr style=\"text-align: right;\">\n",
       "      <th></th>\n",
       "      <th>url</th>\n",
       "      <th>type</th>\n",
       "      <th>ext_type</th>\n",
       "      <th>has_http</th>\n",
       "      <th>has_org</th>\n",
       "      <th>has_query</th>\n",
       "      <th>count_routes</th>\n",
       "    </tr>\n",
       "  </thead>\n",
       "  <tbody>\n",
       "    <tr>\n",
       "      <th>0</th>\n",
       "      <td>br-icloud.com.br</td>\n",
       "      <td>phishing</td>\n",
       "      <td>None</td>\n",
       "      <td>0</td>\n",
       "      <td>0</td>\n",
       "      <td>0</td>\n",
       "      <td>0</td>\n",
       "    </tr>\n",
       "    <tr>\n",
       "      <th>1</th>\n",
       "      <td>mp3raid.com/music/krizz_kaliko.html</td>\n",
       "      <td>benign</td>\n",
       "      <td>html</td>\n",
       "      <td>0</td>\n",
       "      <td>0</td>\n",
       "      <td>0</td>\n",
       "      <td>2</td>\n",
       "    </tr>\n",
       "    <tr>\n",
       "      <th>2</th>\n",
       "      <td>bopsecrets.org/rexroth/cr/1.htm</td>\n",
       "      <td>benign</td>\n",
       "      <td>htm</td>\n",
       "      <td>0</td>\n",
       "      <td>1</td>\n",
       "      <td>0</td>\n",
       "      <td>3</td>\n",
       "    </tr>\n",
       "    <tr>\n",
       "      <th>3</th>\n",
       "      <td>http://www.garage-pirenne.be/index.php?option=...</td>\n",
       "      <td>defacement</td>\n",
       "      <td>php</td>\n",
       "      <td>1</td>\n",
       "      <td>0</td>\n",
       "      <td>1</td>\n",
       "      <td>1</td>\n",
       "    </tr>\n",
       "    <tr>\n",
       "      <th>4</th>\n",
       "      <td>http://adventure-nicaragua.net/index.php?optio...</td>\n",
       "      <td>defacement</td>\n",
       "      <td>php</td>\n",
       "      <td>1</td>\n",
       "      <td>0</td>\n",
       "      <td>1</td>\n",
       "      <td>1</td>\n",
       "    </tr>\n",
       "  </tbody>\n",
       "</table>\n",
       "</div>"
      ],
      "text/plain": [
       "                                                 url        type ext_type  \\\n",
       "0                                   br-icloud.com.br    phishing     None   \n",
       "1                mp3raid.com/music/krizz_kaliko.html      benign     html   \n",
       "2                    bopsecrets.org/rexroth/cr/1.htm      benign      htm   \n",
       "3  http://www.garage-pirenne.be/index.php?option=...  defacement      php   \n",
       "4  http://adventure-nicaragua.net/index.php?optio...  defacement      php   \n",
       "\n",
       "   has_http  has_org  has_query  count_routes  \n",
       "0         0        0          0             0  \n",
       "1         0        0          0             2  \n",
       "2         0        1          0             3  \n",
       "3         1        0          1             1  \n",
       "4         1        0          1             1  "
      ]
     },
     "execution_count": 8,
     "metadata": {},
     "output_type": "execute_result"
    }
   ],
   "source": [
    "df.head()"
   ]
  },
  {
   "cell_type": "code",
   "execution_count": 9,
   "metadata": {
    "executionInfo": {
     "elapsed": 37,
     "status": "aborted",
     "timestamp": 1694069483597,
     "user": {
      "displayName": "Yogitha Lss",
      "userId": "02270303392189150524"
     },
     "user_tz": -330
    },
    "id": "vWNV8Cq_Snc7",
    "scrolled": true
   },
   "outputs": [
    {
     "data": {
      "image/png": "[encoded data removed]",
      "text/plain": [
       "<Figure size 1000x800 with 2 Axes>"
      ]
     },
     "metadata": {},
     "output_type": "display_data"
    }
   ],
   "source": [
    "plt.figure(figsize=(10, 8))\n",
    "sns.heatmap(pd.get_dummies(df.iloc[:, 1:]).corr())\n",
    "plt.title('Correlation Matrix')\n",
    "plt.show()"
   ]
  },
  {
   "cell_type": "code",
   "execution_count": 10,
   "metadata": {
    "executionInfo": {
     "elapsed": 38,
     "status": "aborted",
     "timestamp": 1694069483599,
     "user": {
      "displayName": "Yogitha Lss",
      "userId": "02270303392189150524"
     },
     "user_tz": -330
    },
    "id": "UQT1EwT5V8Ub"
   },
   "outputs": [],
   "source": [
    "y_mapping = {\n",
    "    0:'benign',\n",
    "    1:'defacement',\n",
    "    2:'malware',\n",
    "    3:'phishing'\n",
    "}\n",
    "\n",
    "df['count_routes'] = df['count_routes'].astype(str)\n",
    "\n",
    "X,y = pd.get_dummies(df.iloc[:, 2:]), df['type'].replace({v: k for k, v in y_mapping.items()})"
   ]
  },
  {
   "cell_type": "code",
   "execution_count": 11,
   "metadata": {
    "executionInfo": {
     "elapsed": 39,
     "status": "aborted",
     "timestamp": 1694069483600,
     "user": {
      "displayName": "Yogitha Lss",
      "userId": "02270303392189150524"
     },
     "user_tz": -330
    },
    "id": "vhEzfNwGZpAv"
   },
   "outputs": [
    {
     "data": {
      "text/html": [
       "<div>\n",
       "<style scoped>\n",
       "    .dataframe tbody tr th:only-of-type {\n",
       "        vertical-align: middle;\n",
       "    }\n",
       "\n",
       "    .dataframe tbody tr th {\n",
       "        vertical-align: top;\n",
       "    }\n",
       "\n",
       "    .dataframe thead th {\n",
       "        text-align: right;\n",
       "    }\n",
       "</style>\n",
       "<table border=\"1\" class=\"dataframe\">\n",
       "  <thead>\n",
       "    <tr style=\"text-align: right;\">\n",
       "      <th></th>\n",
       "      <th>ext_type</th>\n",
       "      <th>has_http</th>\n",
       "      <th>has_org</th>\n",
       "      <th>has_query</th>\n",
       "      <th>count_routes</th>\n",
       "    </tr>\n",
       "  </thead>\n",
       "  <tbody>\n",
       "    <tr>\n",
       "      <th>0</th>\n",
       "      <td>None</td>\n",
       "      <td>0</td>\n",
       "      <td>0</td>\n",
       "      <td>0</td>\n",
       "      <td>0</td>\n",
       "    </tr>\n",
       "    <tr>\n",
       "      <th>1</th>\n",
       "      <td>html</td>\n",
       "      <td>0</td>\n",
       "      <td>0</td>\n",
       "      <td>0</td>\n",
       "      <td>2</td>\n",
       "    </tr>\n",
       "    <tr>\n",
       "      <th>2</th>\n",
       "      <td>htm</td>\n",
       "      <td>0</td>\n",
       "      <td>1</td>\n",
       "      <td>0</td>\n",
       "      <td>3</td>\n",
       "    </tr>\n",
       "    <tr>\n",
       "      <th>3</th>\n",
       "      <td>php</td>\n",
       "      <td>1</td>\n",
       "      <td>0</td>\n",
       "      <td>1</td>\n",
       "      <td>1</td>\n",
       "    </tr>\n",
       "    <tr>\n",
       "      <th>4</th>\n",
       "      <td>php</td>\n",
       "      <td>1</td>\n",
       "      <td>0</td>\n",
       "      <td>1</td>\n",
       "      <td>1</td>\n",
       "    </tr>\n",
       "    <tr>\n",
       "      <th>...</th>\n",
       "      <td>...</td>\n",
       "      <td>...</td>\n",
       "      <td>...</td>\n",
       "      <td>...</td>\n",
       "      <td>...</td>\n",
       "    </tr>\n",
       "    <tr>\n",
       "      <th>651186</th>\n",
       "      <td>html</td>\n",
       "      <td>0</td>\n",
       "      <td>0</td>\n",
       "      <td>0</td>\n",
       "      <td>3</td>\n",
       "    </tr>\n",
       "    <tr>\n",
       "      <th>651187</th>\n",
       "      <td>None</td>\n",
       "      <td>0</td>\n",
       "      <td>0</td>\n",
       "      <td>0</td>\n",
       "      <td>4</td>\n",
       "    </tr>\n",
       "    <tr>\n",
       "      <th>651188</th>\n",
       "      <td>None</td>\n",
       "      <td>0</td>\n",
       "      <td>0</td>\n",
       "      <td>0</td>\n",
       "      <td>4</td>\n",
       "    </tr>\n",
       "    <tr>\n",
       "      <th>651189</th>\n",
       "      <td>None</td>\n",
       "      <td>0</td>\n",
       "      <td>1</td>\n",
       "      <td>0</td>\n",
       "      <td>2</td>\n",
       "    </tr>\n",
       "    <tr>\n",
       "      <th>651190</th>\n",
       "      <td>None</td>\n",
       "      <td>0</td>\n",
       "      <td>0</td>\n",
       "      <td>0</td>\n",
       "      <td>3</td>\n",
       "    </tr>\n",
       "  </tbody>\n",
       "</table>\n",
       "<p>651191 rows × 5 columns</p>\n",
       "</div>"
      ],
      "text/plain": [
       "       ext_type  has_http  has_org  has_query count_routes\n",
       "0          None         0        0          0            0\n",
       "1          html         0        0          0            2\n",
       "2           htm         0        1          0            3\n",
       "3           php         1        0          1            1\n",
       "4           php         1        0          1            1\n",
       "...         ...       ...      ...        ...          ...\n",
       "651186     html         0        0          0            3\n",
       "651187     None         0        0          0            4\n",
       "651188     None         0        0          0            4\n",
       "651189     None         0        1          0            2\n",
       "651190     None         0        0          0            3\n",
       "\n",
       "[651191 rows x 5 columns]"
      ]
     },
     "execution_count": 11,
     "metadata": {},
     "output_type": "execute_result"
    }
   ],
   "source": [
    "df.iloc[:, 2:]"
   ]
  },
  {
   "cell_type": "code",
   "execution_count": 12,
   "metadata": {
    "executionInfo": {
     "elapsed": 40,
     "status": "aborted",
     "timestamp": 1694069483601,
     "user": {
      "displayName": "Yogitha Lss",
      "userId": "02270303392189150524"
     },
     "user_tz": -330
    },
    "id": "gauzq8SiZpAx"
   },
   "outputs": [
    {
     "data": {
      "text/plain": [
       "0         3\n",
       "1         0\n",
       "2         0\n",
       "3         1\n",
       "4         1\n",
       "         ..\n",
       "651186    3\n",
       "651187    3\n",
       "651188    3\n",
       "651189    3\n",
       "651190    3\n",
       "Name: type, Length: 651191, dtype: int64"
      ]
     },
     "execution_count": 12,
     "metadata": {},
     "output_type": "execute_result"
    }
   ],
   "source": [
    "y"
   ]
  },
  {
   "cell_type": "code",
   "execution_count": 13,
   "metadata": {
    "executionInfo": {
     "elapsed": 40,
     "status": "aborted",
     "timestamp": 1694069483602,
     "user": {
      "displayName": "Yogitha Lss",
      "userId": "02270303392189150524"
     },
     "user_tz": -330
    },
    "id": "i_um7v38ZpAy",
    "scrolled": true
   },
   "outputs": [
    {
     "data": {
      "text/html": [
       "<div>\n",
       "<style scoped>\n",
       "    .dataframe tbody tr th:only-of-type {\n",
       "        vertical-align: middle;\n",
       "    }\n",
       "\n",
       "    .dataframe tbody tr th {\n",
       "        vertical-align: top;\n",
       "    }\n",
       "\n",
       "    .dataframe thead th {\n",
       "        text-align: right;\n",
       "    }\n",
       "</style>\n",
       "<table border=\"1\" class=\"dataframe\">\n",
       "  <thead>\n",
       "    <tr style=\"text-align: right;\">\n",
       "      <th></th>\n",
       "      <th>has_http</th>\n",
       "      <th>has_org</th>\n",
       "      <th>has_query</th>\n",
       "      <th>ext_type_None</th>\n",
       "      <th>ext_type_aspx</th>\n",
       "      <th>ext_type_com</th>\n",
       "      <th>ext_type_com/</th>\n",
       "      <th>ext_type_com/watch</th>\n",
       "      <th>ext_type_htm</th>\n",
       "      <th>ext_type_html</th>\n",
       "      <th>ext_type_php</th>\n",
       "      <th>count_routes_0</th>\n",
       "      <th>count_routes_1</th>\n",
       "      <th>count_routes_2</th>\n",
       "      <th>count_routes_3</th>\n",
       "      <th>count_routes_4</th>\n",
       "    </tr>\n",
       "  </thead>\n",
       "  <tbody>\n",
       "    <tr>\n",
       "      <th>0</th>\n",
       "      <td>0</td>\n",
       "      <td>0</td>\n",
       "      <td>0</td>\n",
       "      <td>1</td>\n",
       "      <td>0</td>\n",
       "      <td>0</td>\n",
       "      <td>0</td>\n",
       "      <td>0</td>\n",
       "      <td>0</td>\n",
       "      <td>0</td>\n",
       "      <td>0</td>\n",
       "      <td>1</td>\n",
       "      <td>0</td>\n",
       "      <td>0</td>\n",
       "      <td>0</td>\n",
       "      <td>0</td>\n",
       "    </tr>\n",
       "    <tr>\n",
       "      <th>1</th>\n",
       "      <td>0</td>\n",
       "      <td>0</td>\n",
       "      <td>0</td>\n",
       "      <td>0</td>\n",
       "      <td>0</td>\n",
       "      <td>0</td>\n",
       "      <td>0</td>\n",
       "      <td>0</td>\n",
       "      <td>0</td>\n",
       "      <td>1</td>\n",
       "      <td>0</td>\n",
       "      <td>0</td>\n",
       "      <td>0</td>\n",
       "      <td>1</td>\n",
       "      <td>0</td>\n",
       "      <td>0</td>\n",
       "    </tr>\n",
       "    <tr>\n",
       "      <th>2</th>\n",
       "      <td>0</td>\n",
       "      <td>1</td>\n",
       "      <td>0</td>\n",
       "      <td>0</td>\n",
       "      <td>0</td>\n",
       "      <td>0</td>\n",
       "      <td>0</td>\n",
       "      <td>0</td>\n",
       "      <td>1</td>\n",
       "      <td>0</td>\n",
       "      <td>0</td>\n",
       "      <td>0</td>\n",
       "      <td>0</td>\n",
       "      <td>0</td>\n",
       "      <td>1</td>\n",
       "      <td>0</td>\n",
       "    </tr>\n",
       "    <tr>\n",
       "      <th>3</th>\n",
       "      <td>1</td>\n",
       "      <td>0</td>\n",
       "      <td>1</td>\n",
       "      <td>0</td>\n",
       "      <td>0</td>\n",
       "      <td>0</td>\n",
       "      <td>0</td>\n",
       "      <td>0</td>\n",
       "      <td>0</td>\n",
       "      <td>0</td>\n",
       "      <td>1</td>\n",
       "      <td>0</td>\n",
       "      <td>1</td>\n",
       "      <td>0</td>\n",
       "      <td>0</td>\n",
       "      <td>0</td>\n",
       "    </tr>\n",
       "    <tr>\n",
       "      <th>4</th>\n",
       "      <td>1</td>\n",
       "      <td>0</td>\n",
       "      <td>1</td>\n",
       "      <td>0</td>\n",
       "      <td>0</td>\n",
       "      <td>0</td>\n",
       "      <td>0</td>\n",
       "      <td>0</td>\n",
       "      <td>0</td>\n",
       "      <td>0</td>\n",
       "      <td>1</td>\n",
       "      <td>0</td>\n",
       "      <td>1</td>\n",
       "      <td>0</td>\n",
       "      <td>0</td>\n",
       "      <td>0</td>\n",
       "    </tr>\n",
       "    <tr>\n",
       "      <th>...</th>\n",
       "      <td>...</td>\n",
       "      <td>...</td>\n",
       "      <td>...</td>\n",
       "      <td>...</td>\n",
       "      <td>...</td>\n",
       "      <td>...</td>\n",
       "      <td>...</td>\n",
       "      <td>...</td>\n",
       "      <td>...</td>\n",
       "      <td>...</td>\n",
       "      <td>...</td>\n",
       "      <td>...</td>\n",
       "      <td>...</td>\n",
       "      <td>...</td>\n",
       "      <td>...</td>\n",
       "      <td>...</td>\n",
       "    </tr>\n",
       "    <tr>\n",
       "      <th>651186</th>\n",
       "      <td>0</td>\n",
       "      <td>0</td>\n",
       "      <td>0</td>\n",
       "      <td>0</td>\n",
       "      <td>0</td>\n",
       "      <td>0</td>\n",
       "      <td>0</td>\n",
       "      <td>0</td>\n",
       "      <td>0</td>\n",
       "      <td>1</td>\n",
       "      <td>0</td>\n",
       "      <td>0</td>\n",
       "      <td>0</td>\n",
       "      <td>0</td>\n",
       "      <td>1</td>\n",
       "      <td>0</td>\n",
       "    </tr>\n",
       "    <tr>\n",
       "      <th>651187</th>\n",
       "      <td>0</td>\n",
       "      <td>0</td>\n",
       "      <td>0</td>\n",
       "      <td>1</td>\n",
       "      <td>0</td>\n",
       "      <td>0</td>\n",
       "      <td>0</td>\n",
       "      <td>0</td>\n",
       "      <td>0</td>\n",
       "      <td>0</td>\n",
       "      <td>0</td>\n",
       "      <td>0</td>\n",
       "      <td>0</td>\n",
       "      <td>0</td>\n",
       "      <td>0</td>\n",
       "      <td>1</td>\n",
       "    </tr>\n",
       "    <tr>\n",
       "      <th>651188</th>\n",
       "      <td>0</td>\n",
       "      <td>0</td>\n",
       "      <td>0</td>\n",
       "      <td>1</td>\n",
       "      <td>0</td>\n",
       "      <td>0</td>\n",
       "      <td>0</td>\n",
       "      <td>0</td>\n",
       "      <td>0</td>\n",
       "      <td>0</td>\n",
       "      <td>0</td>\n",
       "      <td>0</td>\n",
       "      <td>0</td>\n",
       "      <td>0</td>\n",
       "      <td>0</td>\n",
       "      <td>1</td>\n",
       "    </tr>\n",
       "    <tr>\n",
       "      <th>651189</th>\n",
       "      <td>0</td>\n",
       "      <td>1</td>\n",
       "      <td>0</td>\n",
       "      <td>1</td>\n",
       "      <td>0</td>\n",
       "      <td>0</td>\n",
       "      <td>0</td>\n",
       "      <td>0</td>\n",
       "      <td>0</td>\n",
       "      <td>0</td>\n",
       "      <td>0</td>\n",
       "      <td>0</td>\n",
       "      <td>0</td>\n",
       "      <td>1</td>\n",
       "      <td>0</td>\n",
       "      <td>0</td>\n",
       "    </tr>\n",
       "    <tr>\n",
       "      <th>651190</th>\n",
       "      <td>0</td>\n",
       "      <td>0</td>\n",
       "      <td>0</td>\n",
       "      <td>1</td>\n",
       "      <td>0</td>\n",
       "      <td>0</td>\n",
       "      <td>0</td>\n",
       "      <td>0</td>\n",
       "      <td>0</td>\n",
       "      <td>0</td>\n",
       "      <td>0</td>\n",
       "      <td>0</td>\n",
       "      <td>0</td>\n",
       "      <td>0</td>\n",
       "      <td>1</td>\n",
       "      <td>0</td>\n",
       "    </tr>\n",
       "  </tbody>\n",
       "</table>\n",
       "<p>651191 rows × 16 columns</p>\n",
       "</div>"
      ],
      "text/plain": [
       "        has_http  has_org  has_query  ext_type_None  ext_type_aspx  \\\n",
       "0              0        0          0              1              0   \n",
       "1              0        0          0              0              0   \n",
       "2              0        1          0              0              0   \n",
       "3              1        0          1              0              0   \n",
       "4              1        0          1              0              0   \n",
       "...          ...      ...        ...            ...            ...   \n",
       "651186         0        0          0              0              0   \n",
       "651187         0        0          0              1              0   \n",
       "651188         0        0          0              1              0   \n",
       "651189         0        1          0              1              0   \n",
       "651190         0        0          0              1              0   \n",
       "\n",
       "        ext_type_com  ext_type_com/  ext_type_com/watch  ext_type_htm  \\\n",
       "0                  0              0                   0             0   \n",
       "1                  0              0                   0             0   \n",
       "2                  0              0                   0             1   \n",
       "3                  0              0                   0             0   \n",
       "4                  0              0                   0             0   \n",
       "...              ...            ...                 ...           ...   \n",
       "651186             0              0                   0             0   \n",
       "651187             0              0                   0             0   \n",
       "651188             0              0                   0             0   \n",
       "651189             0              0                   0             0   \n",
       "651190             0              0                   0             0   \n",
       "\n",
       "        ext_type_html  ext_type_php  count_routes_0  count_routes_1  \\\n",
       "0                   0             0               1               0   \n",
       "1                   1             0               0               0   \n",
       "2                   0             0               0               0   \n",
       "3                   0             1               0               1   \n",
       "4                   0             1               0               1   \n",
       "...               ...           ...             ...             ...   \n",
       "651186              1             0               0               0   \n",
       "651187              0             0               0               0   \n",
       "651188              0             0               0               0   \n",
       "651189              0             0               0               0   \n",
       "651190              0             0               0               0   \n",
       "\n",
       "        count_routes_2  count_routes_3  count_routes_4  \n",
       "0                    0               0               0  \n",
       "1                    1               0               0  \n",
       "2                    0               1               0  \n",
       "3                    0               0               0  \n",
       "4                    0               0               0  \n",
       "...                ...             ...             ...  \n",
       "651186               0               1               0  \n",
       "651187               0               0               1  \n",
       "651188               0               0               1  \n",
       "651189               1               0               0  \n",
       "651190               0               1               0  \n",
       "\n",
       "[651191 rows x 16 columns]"
      ]
     },
     "execution_count": 13,
     "metadata": {},
     "output_type": "execute_result"
    }
   ],
   "source": [
    "X"
   ]
  },
  {
   "cell_type": "code",
   "execution_count": 14,
   "metadata": {
    "executionInfo": {
     "elapsed": 40,
     "status": "aborted",
     "timestamp": 1694069483603,
     "user": {
      "displayName": "Yogitha Lss",
      "userId": "02270303392189150524"
     },
     "user_tz": -330
    },
    "id": "CPIbXE-FaHMx"
   },
   "outputs": [
    {
     "name": "stdout",
     "output_type": "stream",
     "text": [
      "X_train shape is (104064, 16)\n",
      "y_train shape is (104064,)\n",
      "X_test shape is (26016, 16)\n",
      "y_test shape is (26016,)\n",
      "2    26093\n",
      "3    26056\n",
      "1    25963\n",
      "0    25952\n",
      "Name: type, dtype: int64\n"
     ]
    }
   ],
   "source": [
    "from sklearn.model_selection import train_test_split\n",
    "from imblearn.under_sampling import RandomUnderSampler\n",
    "\n",
    "# Perform random undersampling to balance the classes\n",
    "rus = RandomUnderSampler(random_state=49)\n",
    "X_resampled, y_resampled = rus.fit_resample(X, y)\n",
    "\n",
    "# Split samples\n",
    "X_train, X_test, y_train, y_test = train_test_split(X_resampled, y_resampled, test_size=0.2, random_state=42)\n",
    "\n",
    "print('X_train shape is', X_train.shape)\n",
    "print('y_train shape is', y_train.shape)\n",
    "print('X_test shape is', X_test.shape)\n",
    "print('y_test shape is', y_test.shape)\n",
    "\n",
    "print(pd.value_counts(y_train))"
   ]
  },
  {
   "cell_type": "code",
   "execution_count": 15,
   "metadata": {
    "executionInfo": {
     "elapsed": 41,
     "status": "aborted",
     "timestamp": 1694069483604,
     "user": {
      "displayName": "Yogitha Lss",
      "userId": "02270303392189150524"
     },
     "user_tz": -330
    },
    "id": "GR8VNRkaZpA0"
   },
   "outputs": [],
   "source": [
    "from sklearn.ensemble import RandomForestClassifier"
   ]
  },
  {
   "cell_type": "code",
   "execution_count": 16,
   "metadata": {
    "executionInfo": {
     "elapsed": 41,
     "status": "aborted",
     "timestamp": 1694069483605,
     "user": {
      "displayName": "Yogitha Lss",
      "userId": "02270303392189150524"
     },
     "user_tz": -330
    },
    "id": "Vlu4ksJyZpA1"
   },
   "outputs": [],
   "source": [
    "rf=RandomForestClassifier(n_estimators=300,criterion='gini',min_samples_split=5,min_samples_leaf=1,max_features='auto',\n",
    "    max_leaf_nodes=None,\n",
    "    min_impurity_decrease=0.0,\n",
    "    bootstrap=True,)"
   ]
  },
  {
   "cell_type": "code",
   "execution_count": 17,
   "metadata": {
    "executionInfo": {
     "elapsed": 42,
     "status": "aborted",
     "timestamp": 1694069483606,
     "user": {
      "displayName": "Yogitha Lss",
      "userId": "02270303392189150524"
     },
     "user_tz": -330
    },
    "id": "-aodwrlqZpA2"
   },
   "outputs": [
    {
     "data": {
      "text/plain": [
       "RandomForestClassifier(min_samples_split=5, n_estimators=300)"
      ]
     },
     "execution_count": 17,
     "metadata": {},
     "output_type": "execute_result"
    }
   ],
   "source": [
    "rf.fit(X_train,y_train)"
   ]
  },
  {
   "cell_type": "code",
   "execution_count": 18,
   "metadata": {
    "executionInfo": {
     "elapsed": 42,
     "status": "aborted",
     "timestamp": 1694069483606,
     "user": {
      "displayName": "Yogitha Lss",
      "userId": "02270303392189150524"
     },
     "user_tz": -330
    },
    "id": "zBefmUAeZpA3"
   },
   "outputs": [
    {
     "name": "stdout",
     "output_type": "stream",
     "text": [
      "[[4390  256  976  946]\n",
      " [   0 5422 1095   40]\n",
      " [  68  480 5575  304]\n",
      " [2058  364  934 3108]]\n",
      "training Accuracy: 0.9745729042510926\n",
      "Classification Report:\n",
      "              precision    recall  f1-score   support\n",
      "\n",
      "           0       0.67      0.67      0.67      6568\n",
      "           1       0.83      0.83      0.83      6557\n",
      "           2       0.65      0.87      0.74      6427\n",
      "           3       0.71      0.48      0.57      6464\n",
      "\n",
      "    accuracy                           0.71     26016\n",
      "   macro avg       0.72      0.71      0.70     26016\n",
      "weighted avg       0.72      0.71      0.70     26016\n",
      "\n"
     ]
    }
   ],
   "source": [
    "# Make predictions on the testing data\n",
    "y_pred = rf.predict(X_test)\n",
    "#y_pred = np.argmax(y_pred_prob, axis=1)\n",
    "\n",
    "# Evaluate the model's accuracy\n",
    "#accuracy = accuracy_score(y_test, y_pred)\n",
    "#print(\"Accuracy:\", accuracy)\n",
    "cm=confusion_matrix(y_test, y_pred)\n",
    "print(cm)\n",
    "\n",
    "conf_matrix =cm\n",
    "# Calculate the values from the confusion matrix\n",
    "TN, FP = conf_matrix[0][0], conf_matrix[0][1]\n",
    "FN, TP = conf_matrix[1][0], conf_matrix[1][1]\n",
    "\n",
    "# Calculate accuracy\n",
    "accuracy = (TP + TN) / (TP + TN + FP + FN)\n",
    "print(\"training Accuracy:\", accuracy)\n",
    "\n",
    "# Print the classification report\n",
    "print(\"Classification Report:\")\n",
    "print(classification_report(y_test, y_pred))"
   ]
  },
  {
   "cell_type": "code",
   "execution_count": 19,
   "metadata": {
    "executionInfo": {
     "elapsed": 43,
     "status": "aborted",
     "timestamp": 1694069483607,
     "user": {
      "displayName": "Yogitha Lss",
      "userId": "02270303392189150524"
     },
     "user_tz": -330
    },
    "id": "s8RdCp6mZpA4"
   },
   "outputs": [
    {
     "name": "stdout",
     "output_type": "stream",
     "text": [
      "[0 0 0 ... 0 2 0]\n"
     ]
    }
   ],
   "source": [
    "y_pred = rf.predict(X_test)\n",
    "print(y_pred)"
   ]
  },
  {
   "cell_type": "code",
   "execution_count": 24,
   "metadata": {},
   "outputs": [
    {
     "data": {
      "image/png": "[encoded data removed]",
      "text/plain": [
       "<Figure size 640x480 with 2 Axes>"
      ]
     },
     "metadata": {},
     "output_type": "display_data"
    }
   ],
   "source": [
    "#Plot the confusion matrix.\n",
    "sns.heatmap(cm,\n",
    "            annot=True,\n",
    "            fmt='g')\n",
    "plt.ylabel('Prediction',fontsize=13)\n",
    "plt.xlabel('Actual',fontsize=13)\n",
    "plt.title('Confusion Matrix',fontsize=17)\n",
    "plt.show()"
   ]
  },
  {
   "cell_type": "code",
   "execution_count": null,
   "metadata": {},
   "outputs": [],
   "source": []
  },
  {
   "cell_type": "code",
   "execution_count": null,
   "metadata": {},
   "outputs": [],
   "source": []
  },
  {
   "cell_type": "code",
   "execution_count": null,
   "metadata": {},
   "outputs": [],
   "source": []
  },
  {
   "cell_type": "code",
   "execution_count": null,
   "metadata": {},
   "outputs": [],
   "source": []
  },
  {
   "cell_type": "code",
   "execution_count": null,
   "metadata": {},
   "outputs": [],
   "source": []
  },
  {
   "cell_type": "code",
   "execution_count": null,
   "metadata": {},
   "outputs": [],
   "source": []
  },
  {
   "cell_type": "code",
   "execution_count": null,
   "metadata": {},
   "outputs": [],
   "source": []
  }
 ],
 "metadata": {
  "colab": {
   "provenance": []
  },
  "kernelspec": {
   "display_name": "Python 3 (ipykernel)",
   "language": "python",
   "name": "python3"
  },
  "language_info": {
   "codemirror_mode": {
    "name": "ipython",
    "version": 3
   },
   "file_extension": ".py",
   "mimetype": "text/x-python",
   "name": "python",
   "nbconvert_exporter": "python",
   "pygments_lexer": "ipython3",
   "version": "3.9.13"
  }
 },
 "nbformat": 4,
 "nbformat_minor": 1
}
